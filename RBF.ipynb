{
  "cells": [
    {
      "cell_type": "markdown",
      "metadata": {
        "id": "te9ZwQwxzyxU"
      },
      "source": [
        "#Implementing RBF Network for Wine Classification\n",
        "\n",
        "This notebook code demonstrates the implementation of a Radial Basis Function (RBF) network for classifying the Wine dataset. It involves several steps, including data loading, preprocessing, RBF feature extraction, model training, and evaluation. Below, we provide a detailed explanation of each section:"
      ]
    },
    {
      "cell_type": "markdown",
      "metadata": {
        "id": "TON0NWOB0IWJ"
      },
      "source": [
        "## 1. Import Necessary Libraries"
      ]
    },
    {
      "cell_type": "code",
      "execution_count": null,
      "metadata": {
        "id": "iS2Gz-mUzw29"
      },
      "outputs": [],
      "source": [
        "# The code begins by importing the required libraries, including NumPy for numerical operations, scikit-learn functions for dataset loading, splitting, and evaluation,\n",
        "# and the LogisticRegression model for classification.\n",
        "\n",
        "import numpy as np\n",
        "from sklearn.datasets import load_wine\n",
        "from sklearn.model_selection import train_test_split\n",
        "from sklearn.preprocessing import StandardScaler\n",
        "from sklearn.metrics import accuracy_score\n",
        "from sklearn.linear_model import LogisticRegression"
      ]
    },
    {
      "cell_type": "markdown",
      "metadata": {
        "id": "u3ZQjtmV00oS"
      },
      "source": [
        "# 2. Load the Wine Dataset"
      ]
    },
    {
      "cell_type": "code",
      "execution_count": null,
      "metadata": {
        "id": "70Fde3vL03GQ"
      },
      "outputs": [],
      "source": [
        "# Here, the Wine dataset is loaded using scikit-learn's load_wine() function, and the feature data is stored in X, while the target labels are stored in y.\n",
        "\n",
        "data = load_wine()\n",
        "X, y = data.data, data.target"
      ]
    },
    {
      "cell_type": "markdown",
      "metadata": {
        "id": "g1k2-xWf1GXi"
      },
      "source": [
        "# 3. Split the Dataset"
      ]
    },
    {
      "cell_type": "code",
      "execution_count": null,
      "metadata": {
        "id": "ADSZ4GQz1KnS"
      },
      "outputs": [],
      "source": [
        "# Here you need to split the data set into training and test sets using the train_test_split function.\n",
        "# 80% of the data is used for training (X_train and y_train) and 20% for testing (X_test and y_test).\n",
        "\n",
        "X_train, X_test, y_train, y_test = train_test_split(X, y, test_size=0.2, random_state=42)\n",
        "\n"
      ]
    },
    {
      "cell_type": "markdown",
      "metadata": {
        "id": "Fws5Cs4H1492"
      },
      "source": [
        "# 4. Standardize Features"
      ]
    },
    {
      "cell_type": "code",
      "execution_count": null,
      "metadata": {
        "id": "AXYJ-DVJ16QY"
      },
      "outputs": [],
      "source": [
        "# Standardization is essential for RBF networks because it makes the data suitable for processing.\n",
        "# Therefore, we need to make sure that they have a mean of 0 and a standard deviation of 1.\n",
        "\n",
        "scaler = StandardScaler()\n",
        "X_train = scaler.fit_transform(X_train)\n",
        "X_test = scaler.transform(X_test)"
      ]
    },
    {
      "cell_type": "markdown",
      "metadata": {
        "id": "0k9j3Ki42biA"
      },
      "source": [
        "# 5. Define RBF Centers"
      ]
    },
    {
      "cell_type": "code",
      "execution_count": null,
      "metadata": {
        "id": "DpomwSzU2eY3"
      },
      "outputs": [],
      "source": [
        "# In this section, the number of RBF centers is defined as num_centers. These centers are selected randomly from the training data and are stored in the centers array.\n",
        "# The rbf_gamma parameter sets the scale for the RBF activations.\n",
        "\n",
        "num_centers = 7\n",
        "rbf_gamma = 2\n",
        "centers = X_train[np.random.choice(X_train.shape[0], num_centers, replace=False)]"
      ]
    },
    {
      "cell_type": "markdown",
      "metadata": {
        "id": "NbuQeiMO2766"
      },
      "source": [
        "# 6. Define RBF Kernel Function"
      ]
    },
    {
      "cell_type": "code",
      "execution_count": null,
      "metadata": {
        "id": "BXz-c45r29d3"
      },
      "outputs": [],
      "source": [
        "# In this function, the Gaussian activation function (RBF) is calculated between the data point x and the centers of the RBF.\n",
        "# Please complete kernel\n",
        "\n",
        "def rbf_kernel(x, centers, gamma = 1):\n",
        "\n",
        "    rbf = np.exp(-(np.linalg.norm(x - centers)**2 / (2 * gamma**2)))\n",
        "\n",
        "    return rbf"
      ]
    },
    {
      "cell_type": "markdown",
      "metadata": {
        "id": "MxTperOo4BG-"
      },
      "source": [
        "# 7. Calculate RBF Activations"
      ]
    },
    {
      "cell_type": "code",
      "execution_count": null,
      "metadata": {
        "id": "X9OAdZmr5cVA"
      },
      "outputs": [],
      "source": [
        "# In this function, RBF is calculated for the input data according to rbf_gamma and center values and is returned as a matrix.\n",
        "# Please complete the function.\n",
        "\n",
        "def calculate_rbf(X, centers, rbf_gamma = 1):\n",
        "    num_samples = len(X)\n",
        "    num_centers = len(centers)\n",
        "    rbf_features = np.zeros((num_samples, num_centers))\n",
        "\n",
        "    for i in range(num_samples):\n",
        "        for j in range(num_centers):\n",
        "            rbf_features[i, j] = rbf_kernel(X[i], centers[j], rbf_gamma)\n",
        "\n",
        "    return rbf_features"
      ]
    },
    {
      "cell_type": "markdown",
      "metadata": {
        "id": "G3lvPvXi5Ukx"
      },
      "source": [
        "# 8. Create and Train a Classifier"
      ]
    },
    {
      "cell_type": "code",
      "execution_count": null,
      "metadata": {
        "id": "dAuEwbUs5c6g"
      },
      "outputs": [],
      "source": [
        "# A Logistic Regression classifier is created and trained using the RBF from the training data.\n",
        "rbf_gamma = 2\n",
        "rbf_train = calculate_rbf(X_train, centers, rbf_gamma)\n",
        "\n",
        "clf = LogisticRegression(max_iter=10000)\n",
        "clf.fit(rbf_train, y_train)"
      ]
    },
    {
      "cell_type": "markdown",
      "metadata": {
        "id": "0BTSkmPn5XaW"
      },
      "source": [
        "# 9. Make Predictions and Evaluate"
      ]
    },
    {
      "cell_type": "code",
      "execution_count": null,
      "metadata": {
        "colab": {
          "base_uri": "https://localhost:8080/"
        },
        "id": "3-tNh0A55dem",
        "outputId": "829aef5c-699b-4bbe-fe97-e735744b0aa3"
      },
      "outputs": [
        {
          "name": "stdout",
          "output_type": "stream",
          "text": [
            "Accuracy: 100.00%\n"
          ]
        }
      ],
      "source": [
        "# The trained classifier is used to make predictions on the test data, and the accuracy of the model is calculated using accuracy_score.\n",
        "rbf_test = calculate_rbf(X_test, centers, rbf_gamma)\n",
        "\n",
        "y_pred = clf.predict(rbf_test)\n",
        "accuracy = accuracy_score(y_test, y_pred)\n",
        "print(f\"Accuracy: {accuracy * 100:.2f}%\")"
      ]
    }
  ],
  "metadata": {
    "colab": {
      "provenance": []
    },
    "kernelspec": {
      "display_name": "Python 3",
      "name": "python3"
    },
    "language_info": {
      "name": "python"
    }
  },
  "nbformat": 4,
  "nbformat_minor": 0
}
